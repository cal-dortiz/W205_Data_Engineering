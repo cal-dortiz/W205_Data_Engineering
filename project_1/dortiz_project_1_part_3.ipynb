{
 "cells": [
  {
   "cell_type": "markdown",
   "metadata": {},
   "source": [
    "# <center> Project One </center>\n",
    "### <center> Part 3 </center>\n",
    "### <center> Dan Ortiz </center>\n",
    "### <center> W205 Thursday 4:00 PM </center>\n",
    "### <center> 9/27/2020 </center>"
   ]
  },
  {
   "cell_type": "markdown",
   "metadata": {},
   "source": [
    "## Part 3 - Employ notebooks to synthesize query project results"
   ]
  },
  {
   "cell_type": "markdown",
   "metadata": {},
   "source": [
    "## Problem Statement\n",
    "\n",
    "- You're a data scientist at Lyft Bay Wheels (https://www.lyft.com/bikes/bay-wheels), formerly known as Ford GoBike, the\n",
    "  company running Bay Area Bikeshare. You are trying to increase ridership, and\n",
    "  you want to offer deals through the mobile app to do so. \n",
    "\n",
    "- What are the 5 most popular trips that you would call \"commuter trips\"? \n",
    "  \n",
    "- What are your recommendations for offers (justify based on your findings)?"
   ]
  },
  {
   "cell_type": "markdown",
   "metadata": {},
   "source": [
    "### Findings and Reccomendations\n",
    "\n",
    "   - Interesting Findings\n",
    "      - Lyft Bay Wheels most popular commuter routes connect patrons from one mode of transportation to another.\n",
    "      \n",
    "      - There is directionality in the flow of commuters departing and arriving at stations.\n",
    "      \n",
    "      - 8.45% of all trips originate or terminate at the 2nd and Townsend terminal. In addition, 8 of the most popular days coordinate with Giants Games at Oracle Park.\n",
    "      \n",
    "      - Most patrons traveling to and from Oracle Park live in:\n",
    "      \n",
    "         - Mission District\n",
    "         \n",
    "         - Greater Oakland Area\n",
    "         \n",
    "         - Greater San Rafael Area\n",
    " \n",
    "   - Recommended Promotions\n",
    "   \n",
    "      - Push promotions from the Lyft App during the 9th inning to people in the geo-area of Oracle Park.\n",
    "      \n",
    "      - Push promotions for Morning and Afternoon commuters for intermodal connecting.\n",
    "      \n",
    "      - Offer a season pass for Giants season pass holders in the identified districts to increase ridership to and from the baseball games.\n",
    "      \n",
    "   \n",
    "   - Recommended Further Lines of Inquiry\n",
    "   \n",
    "      - Weekends tend to be more popular for bike rentals. Why is this?\n",
    "      \n",
    "      - Do bike commuters use our bikes to as a primary mode to commute to work or just to connect between modes of public transportation?\n",
    "      \n",
    "      - Are there opportunities to advertise on or partner with bay area public transportation to promote Lyft Bay Area Wheels?\n",
    "   "
   ]
  },
  {
   "cell_type": "markdown",
   "metadata": {},
   "source": [
    "### What unique characteristics identify a commuter trip from a regular trip?\n",
    "   \n",
    "Defining what comprises a commuter trip.\n",
    "    \n",
    "   - A Commuter trip must take place Monday - Friday During Rush Hour\n",
    "   - Rush Hour is defined as 7:00 AM - 9:00 AM and 4:30 PM to 6:30 PM according to [sfgov.org](https://sfgov.org/scorecards/transportation/congestion)\n",
    "   - Repeat riders would hold a subscription but it is possible for customers to commute so we will count both\n",
    "   - The originating and terminating station must be different    "
   ]
  },
  {
   "cell_type": "code",
   "execution_count": null,
   "metadata": {},
   "outputs": [],
   "source": [
    "#Run this if you're having trouble running big query in the notebook.\n",
    "#!pip install google-cloud-bigquery-storage"
   ]
  },
  {
   "cell_type": "code",
   "execution_count": 119,
   "metadata": {},
   "outputs": [],
   "source": [
    "import pandas as pd\n",
    "import matplotlib.pyplot as plt"
   ]
  },
  {
   "cell_type": "code",
   "execution_count": 116,
   "metadata": {},
   "outputs": [],
   "source": [
    "%%bigquery commuter_trip\n",
    "\n",
    "SELECT start_station_name,\n",
    "       end_station_name,\n",
    "       SUM(CASE WHEN TIME(start_date) > TIME(7, 0, 0) AND TIME(start_date) < TIME(9, 0, 0) THEN 1 ELSE 0 END) +\n",
    "       SUM(CASE WHEN TIME(start_date) > TIME(16, 30, 0) AND TIME(start_date) < TIME(18, 30, 0) THEN 1 ELSE 0 END) AS total_trips,\n",
    "       SUM(CASE WHEN TIME(start_date) > TIME(7, 0, 0) AND TIME(start_date) < TIME(9, 0, 0) THEN 1 ELSE 0 END) AS am_trips,\n",
    "       SUM(CASE WHEN TIME(start_date) > TIME(16, 30, 0) AND TIME(start_date) < TIME(18, 30, 0) THEN 1 ELSE 0 END) AS pm_trips,\n",
    "FROM bigquery-public-data.san_francisco.bikeshare_trips\n",
    "WHERE EXTRACT(DAYOFWEEK FROM start_date) != 1 \n",
    "      AND EXTRACT(DAYOFWEEK FROM start_date) != 7\n",
    "      AND start_station_id != end_station_id\n",
    "GROUP BY start_station_name, end_station_name\n",
    "ORDER BY total_trips DESC\n",
    "LIMIT 5"
   ]
  },
  {
   "cell_type": "code",
   "execution_count": 123,
   "metadata": {},
   "outputs": [
    {
     "data": {
      "text/html": [
       "<div>\n",
       "<style scoped>\n",
       "    .dataframe tbody tr th:only-of-type {\n",
       "        vertical-align: middle;\n",
       "    }\n",
       "\n",
       "    .dataframe tbody tr th {\n",
       "        vertical-align: top;\n",
       "    }\n",
       "\n",
       "    .dataframe thead th {\n",
       "        text-align: right;\n",
       "    }\n",
       "</style>\n",
       "<table border=\"1\" class=\"dataframe\">\n",
       "  <thead>\n",
       "    <tr style=\"text-align: right;\">\n",
       "      <th></th>\n",
       "      <th>start_station_name</th>\n",
       "      <th>end_station_name</th>\n",
       "      <th>total_trips</th>\n",
       "      <th>am_trips</th>\n",
       "      <th>pm_trips</th>\n",
       "    </tr>\n",
       "  </thead>\n",
       "  <tbody>\n",
       "    <tr>\n",
       "      <th>0</th>\n",
       "      <td>Harry Bridges Plaza (Ferry Building)</td>\n",
       "      <td>2nd at Townsend</td>\n",
       "      <td>4141</td>\n",
       "      <td>3673</td>\n",
       "      <td>468</td>\n",
       "    </tr>\n",
       "    <tr>\n",
       "      <th>1</th>\n",
       "      <td>Embarcadero at Sansome</td>\n",
       "      <td>Steuart at Market</td>\n",
       "      <td>4001</td>\n",
       "      <td>799</td>\n",
       "      <td>3202</td>\n",
       "    </tr>\n",
       "    <tr>\n",
       "      <th>2</th>\n",
       "      <td>San Francisco Caltrain (Townsend at 4th)</td>\n",
       "      <td>Harry Bridges Plaza (Ferry Building)</td>\n",
       "      <td>3877</td>\n",
       "      <td>2546</td>\n",
       "      <td>1331</td>\n",
       "    </tr>\n",
       "    <tr>\n",
       "      <th>3</th>\n",
       "      <td>2nd at Townsend</td>\n",
       "      <td>Harry Bridges Plaza (Ferry Building)</td>\n",
       "      <td>3825</td>\n",
       "      <td>511</td>\n",
       "      <td>3314</td>\n",
       "    </tr>\n",
       "    <tr>\n",
       "      <th>4</th>\n",
       "      <td>Embarcadero at Folsom</td>\n",
       "      <td>San Francisco Caltrain (Townsend at 4th)</td>\n",
       "      <td>3773</td>\n",
       "      <td>588</td>\n",
       "      <td>3185</td>\n",
       "    </tr>\n",
       "  </tbody>\n",
       "</table>\n",
       "</div>"
      ],
      "text/plain": [
       "                         start_station_name  \\\n",
       "0      Harry Bridges Plaza (Ferry Building)   \n",
       "1                    Embarcadero at Sansome   \n",
       "2  San Francisco Caltrain (Townsend at 4th)   \n",
       "3                           2nd at Townsend   \n",
       "4                     Embarcadero at Folsom   \n",
       "\n",
       "                           end_station_name  total_trips  am_trips  pm_trips  \n",
       "0                           2nd at Townsend         4141      3673       468  \n",
       "1                         Steuart at Market         4001       799      3202  \n",
       "2      Harry Bridges Plaza (Ferry Building)         3877      2546      1331  \n",
       "3      Harry Bridges Plaza (Ferry Building)         3825       511      3314  \n",
       "4  San Francisco Caltrain (Townsend at 4th)         3773       588      3185  "
      ]
     },
     "execution_count": 123,
     "metadata": {},
     "output_type": "execute_result"
    }
   ],
   "source": [
    "commuter_trip"
   ]
  },
  {
   "cell_type": "markdown",
   "metadata": {},
   "source": [
    "Observations\n",
    "   - Most commuter trips are taking place in the evening\n",
    "   - Commuter flow has a unique directional flow\n",
    "   - Most of these stops are connected other modes of transportation\n",
    "   - Second and Townsend is unique. It connects from intermodal to Oracle Park. When do trips to this station peak, what time and date is this.\n",
    "   - What’s special about the south beach geography that has the most trips?"
   ]
  },
  {
   "cell_type": "markdown",
   "metadata": {},
   "source": [
    "### When do our subscribers and customers ride our bikes?"
   ]
  },
  {
   "cell_type": "code",
   "execution_count": 54,
   "metadata": {},
   "outputs": [],
   "source": [
    "%%bigquery ride_times\n",
    "\n",
    "SELECT EXTRACT(HOUR FROM start_date) AS Hour,\n",
    "       EXTRACT(DAYOFWEEK FROM start_date) AS Day,\n",
    "       COUNT(trip_id) AS Trips\n",
    "FROM bigquery-public-data.san_francisco.bikeshare_trips\n",
    "WHERE subscriber_type = \"Customer\"\n",
    "GROUP BY Day, Hour\n",
    "ORDER BY Day, Hour"
   ]
  },
  {
   "cell_type": "code",
   "execution_count": 55,
   "metadata": {},
   "outputs": [],
   "source": [
    "ride_times[\"day_hour\"] = ride_times[\"Day\"].astype(str) + \".\" + ride_times[\"Hour\"].astype(str)"
   ]
  },
  {
   "cell_type": "code",
   "execution_count": 57,
   "metadata": {},
   "outputs": [
    {
     "data": {
      "text/plain": [
       "Text(0, 0.5, 'Number of Rides')"
      ]
     },
     "execution_count": 57,
     "metadata": {},
     "output_type": "execute_result"
    },
    {
     "data": {
      "image/png": "[encoded data removed]",
      "text/plain": [
       "<Figure size 1440x360 with 1 Axes>"
      ]
     },
     "metadata": {
      "needs_background": "light"
     },
     "output_type": "display_data"
    }
   ],
   "source": [
    "rt_plot = ride_times.plot(x = \"day_hour\", y = \"Trips\", kind = \"bar\", title =\"Total Number of Trips by Time and Day\", figsize=(20,5))\n",
    "rt_plot.locator_params(axis='y', nbins=6)\n",
    "every_nth = 4\n",
    "for n, label in enumerate(rt_plot.xaxis.get_ticklabels()):\n",
    "    if n % every_nth != 0:\n",
    "        label.set_visible(False)\n",
    "rt_plot.set_xlabel(\"Day of The Week\")\n",
    "rt_plot.set_ylabel(\"Number of Rides\")\n",
    "\n",
    "# can this be done with a stack bar chart"
   ]
  },
  {
   "cell_type": "markdown",
   "metadata": {},
   "source": [
    "Observations\n",
    "   - Slight peak during commute times during the week\n",
    "   - Most trips are taken on the weekend\n",
    "   - Most trips during the week start at 11 AM and end at 8 PM\n",
    "   - Why do trips peak in the afternoon and not in the morning?\n",
    "   - Additional study should be focused on how people are using these bikes at the end of the day and not at the beginning of the day"
   ]
  },
  {
   "cell_type": "markdown",
   "metadata": {},
   "source": [
    "### Is there a connection between ridership at the 2nd and Townsend Station and Giants Baseball Games?\n",
    "\n",
    "2nd and Townsend station stands out in the list of popular routes because it is the only one that does not connect other transit stations to the bike network. In fact it connects the bike network to Oracle Stadium. Combined with the large amount of ridership on the weekend, is there a connection?"
   ]
  },
  {
   "cell_type": "code",
   "execution_count": 87,
   "metadata": {},
   "outputs": [],
   "source": [
    "%%bigquery second_and_t\n",
    "\n",
    "SELECT EXTRACT(DATE FROM start_date) AS Ride_Date,\n",
    "       COUNT(trip_id) AS Trips\n",
    "FROM bigquery-public-data.san_francisco.bikeshare_trips\n",
    "WHERE end_station_name = \"2nd at Townsend\"\n",
    "GROUP BY Ride_Date\n",
    "ORDER BY Trips DESC\n",
    "LIMIT 20"
   ]
  },
  {
   "cell_type": "code",
   "execution_count": 88,
   "metadata": {},
   "outputs": [
    {
     "data": {
      "text/plain": [
       "Text(0, 0.5, 'number of Trips')"
      ]
     },
     "execution_count": 88,
     "metadata": {},
     "output_type": "execute_result"
    },
    {
     "data": {
      "image/png": "[encoded data removed]",
      "text/plain": [
       "<Figure size 1440x360 with 1 Axes>"
      ]
     },
     "metadata": {
      "needs_background": "light"
     },
     "output_type": "display_data"
    }
   ],
   "source": [
    "st_plot = second_and_t.plot(x = \"Ride_Date\", y = \"Trips\", kind = \"bar\", title =\"Most Popular Day at 2nd and Townsend\", figsize=(20,5))\n",
    "st_plot.set_xlabel(\"Ride Date\")\n",
    "st_plot.set_ylabel(\"number of Trips\")"
   ]
  },
  {
   "cell_type": "markdown",
   "metadata": {},
   "source": [
    "Cross referencing Giants games from [baseball-reference.com](https://www.baseball-reference.com) for the top 10 days above yields:\n",
    "\n",
    "|Date|Oponent|Field|\n",
    "|----|-------|-----|\n",
    "|2014-10-24|Royals|Home|\n",
    "|2016-05-10| Mets |Away|\n",
    "|2014-10-29|Royals|Away|\n",
    "|2016-04-07|Dodgers|Home|\n",
    "|2016-07-29|Nationals|Home\n",
    "|2016-06-08|Red Sox|Home|\n",
    "|2014-10-07|Nationals|Home|\n",
    "|2014-10-16|Cardinals|Home|\n",
    "|2015-09-09| Mets |Away|\n",
    "|2015-08-25| Cubs |Home|\n",
    "\n",
    "There seems to be a correlation between game day and ridership at this station. The 2014 Royal games reflect the 2014 World Series and AT&T field (Now Oracle Park) offered standing room viewing of the game in Kansas City. Therefore 8 out of the 10 busiest days for the station is correlated to the Giants game.\n",
    "\n",
    "Key Observations\n",
    "   - There is a correlation between Giants games and the use of the 2nd and Townsend station"
   ]
  },
  {
   "cell_type": "markdown",
   "metadata": {},
   "source": [
    "### What are the popular arival and departure routes for the the 2nd and Townsend Routs?\n",
    "\n",
    "\n"
   ]
  },
  {
   "cell_type": "code",
   "execution_count": 89,
   "metadata": {},
   "outputs": [],
   "source": [
    "%%bigquery arival_2_and_t\n",
    "\n",
    "SELECT start_station_name,\n",
    "       end_station_name,\n",
    "       COUNT(trip_id) AS Trips\n",
    "FROM bigquery-public-data.san_francisco.bikeshare_trips\n",
    "WHERE end_station_name = \"2nd at Townsend\"\n",
    "   AND start_station_id != end_station_id\n",
    "GROUP BY end_station_name, start_station_name\n",
    "ORDER BY Trips DESC\n",
    "LIMIT 5"
   ]
  },
  {
   "cell_type": "code",
   "execution_count": 90,
   "metadata": {},
   "outputs": [
    {
     "data": {
      "text/html": [
       "<div>\n",
       "<style scoped>\n",
       "    .dataframe tbody tr th:only-of-type {\n",
       "        vertical-align: middle;\n",
       "    }\n",
       "\n",
       "    .dataframe tbody tr th {\n",
       "        vertical-align: top;\n",
       "    }\n",
       "\n",
       "    .dataframe thead th {\n",
       "        text-align: right;\n",
       "    }\n",
       "</style>\n",
       "<table border=\"1\" class=\"dataframe\">\n",
       "  <thead>\n",
       "    <tr style=\"text-align: right;\">\n",
       "      <th></th>\n",
       "      <th>start_station_name</th>\n",
       "      <th>end_station_name</th>\n",
       "      <th>Trips</th>\n",
       "    </tr>\n",
       "  </thead>\n",
       "  <tbody>\n",
       "    <tr>\n",
       "      <th>0</th>\n",
       "      <td>Harry Bridges Plaza (Ferry Building)</td>\n",
       "      <td>2nd at Townsend</td>\n",
       "      <td>6888</td>\n",
       "    </tr>\n",
       "    <tr>\n",
       "      <th>1</th>\n",
       "      <td>Steuart at Market</td>\n",
       "      <td>2nd at Townsend</td>\n",
       "      <td>6039</td>\n",
       "    </tr>\n",
       "    <tr>\n",
       "      <th>2</th>\n",
       "      <td>Temporary Transbay Terminal (Howard at Beale)</td>\n",
       "      <td>2nd at Townsend</td>\n",
       "      <td>3207</td>\n",
       "    </tr>\n",
       "    <tr>\n",
       "      <th>3</th>\n",
       "      <td>San Francisco Caltrain (Townsend at 4th)</td>\n",
       "      <td>2nd at Townsend</td>\n",
       "      <td>2492</td>\n",
       "    </tr>\n",
       "    <tr>\n",
       "      <th>4</th>\n",
       "      <td>Market at Sansome</td>\n",
       "      <td>2nd at Townsend</td>\n",
       "      <td>2482</td>\n",
       "    </tr>\n",
       "  </tbody>\n",
       "</table>\n",
       "</div>"
      ],
      "text/plain": [
       "                              start_station_name end_station_name  Trips\n",
       "0           Harry Bridges Plaza (Ferry Building)  2nd at Townsend   6888\n",
       "1                              Steuart at Market  2nd at Townsend   6039\n",
       "2  Temporary Transbay Terminal (Howard at Beale)  2nd at Townsend   3207\n",
       "3       San Francisco Caltrain (Townsend at 4th)  2nd at Townsend   2492\n",
       "4                              Market at Sansome  2nd at Townsend   2482"
      ]
     },
     "execution_count": 90,
     "metadata": {},
     "output_type": "execute_result"
    }
   ],
   "source": [
    "arival_2_and_t"
   ]
  },
  {
   "cell_type": "markdown",
   "metadata": {},
   "source": [
    "Key Observation\n",
    "   - The most popular arrival and departure stations connected to 2nd and Townsend connects other modes of transportation to the park\n",
    "   - People using the bikes to get from a modal station to the park may be coming from further out of town"
   ]
  },
  {
   "cell_type": "code",
   "execution_count": 91,
   "metadata": {},
   "outputs": [],
   "source": [
    "%%bigquery departure_2_and_t\n",
    "\n",
    "SELECT start_station_name,\n",
    "       end_station_name,\n",
    "       COUNT(trip_id) AS Trips\n",
    "FROM bigquery-public-data.san_francisco.bikeshare_trips\n",
    "WHERE start_station_name = \"2nd at Townsend\"\n",
    "   AND start_station_id != end_station_id\n",
    "GROUP BY start_station_name, end_station_name\n",
    "ORDER BY Trips DESC\n",
    "LIMIT 5"
   ]
  },
  {
   "cell_type": "code",
   "execution_count": null,
   "metadata": {},
   "outputs": [],
   "source": [
    "departure_2_and_t"
   ]
  },
  {
   "cell_type": "markdown",
   "metadata": {},
   "source": [
    "Key Observations\n",
    "   - These are the same routes that were shown in arrival\n",
    "   - The popularity of the routes is different. Potential an opportunity to convince customers to commute both ways to and from the games"
   ]
  },
  {
   "cell_type": "markdown",
   "metadata": {},
   "source": [
    "### Where do these Subscribers live?"
   ]
  },
  {
   "cell_type": "code",
   "execution_count": 109,
   "metadata": {},
   "outputs": [],
   "source": [
    "%%bigquery subs_vs_cust\n",
    "\n",
    "SELECT SUM(CASE WHEN subscriber_type = \"Subscriber\" THEN 1 ELSE 0 END) AS subscriber,\n",
    "       SUM(CASE WHEN subscriber_type = \"Customer\" THEN 1 ELSE 0 END) AS customer,\n",
    "FROM bigquery-public-data.san_francisco.bikeshare_trips\n",
    "WHERE (start_station_name = \"Harry Bridges Plaza (Ferry Building)\" AND end_station_name = \"2nd at Townsend\")\n",
    "   OR (start_station_name = \"Steuart at Market\" AND end_station_name = \"2nd at Townsend\")\n",
    "   OR (start_station_name = \"Temporary Transbay Terminal (Howard at Beale)\" AND end_station_name = \"2nd at Townsend\")\n",
    "   OR (start_station_name = \"San Francisco Caltrain (Townsend at 4th)\" AND end_station_name = \"2nd at Townsend\")\n",
    "   OR (start_station_name = \"Market at Sansome\" AND end_station_name = \"2nd at Townsend\")\n",
    "   OR (start_station_name = \"2nd at Townsend\" AND end_station_name = \"Harry Bridges Plaza (Ferry Building)\")\n",
    "   OR (start_station_name = \"2nd at Townsend\" AND end_station_name = \"Steuart at Market\")\n",
    "   OR (start_station_name = \"2nd at Townsend\" AND end_station_name = \"Market at Sansome\")\n",
    "   OR (start_station_name = \"2nd at Townsend\" AND end_station_name = \"San Francisco Caltrain (Townsend at 4th)\")\n",
    "   OR (start_station_name = \"2nd at Townsend\" AND end_station_name = \"Temporary Transbay Terminal (Howard at Beale)\")\n",
    "   AND start_station_id != end_station_id"
   ]
  },
  {
   "cell_type": "code",
   "execution_count": 110,
   "metadata": {},
   "outputs": [
    {
     "data": {
      "text/html": [
       "<div>\n",
       "<style scoped>\n",
       "    .dataframe tbody tr th:only-of-type {\n",
       "        vertical-align: middle;\n",
       "    }\n",
       "\n",
       "    .dataframe tbody tr th {\n",
       "        vertical-align: top;\n",
       "    }\n",
       "\n",
       "    .dataframe thead th {\n",
       "        text-align: right;\n",
       "    }\n",
       "</style>\n",
       "<table border=\"1\" class=\"dataframe\">\n",
       "  <thead>\n",
       "    <tr style=\"text-align: right;\">\n",
       "      <th></th>\n",
       "      <th>subscriber</th>\n",
       "      <th>customer</th>\n",
       "    </tr>\n",
       "  </thead>\n",
       "  <tbody>\n",
       "    <tr>\n",
       "      <th>0</th>\n",
       "      <td>37999</td>\n",
       "      <td>2318</td>\n",
       "    </tr>\n",
       "  </tbody>\n",
       "</table>\n",
       "</div>"
      ],
      "text/plain": [
       "   subscriber  customer\n",
       "0       37999      2318"
      ]
     },
     "execution_count": 110,
     "metadata": {},
     "output_type": "execute_result"
    }
   ],
   "source": [
    "subs_vs_cust"
   ]
  },
  {
   "cell_type": "markdown",
   "metadata": {},
   "source": [
    "Key Observation\n",
    "   - Most of the people using the bikes to travel to and from the Giants games are Subscribers,"
   ]
  },
  {
   "cell_type": "code",
   "execution_count": 106,
   "metadata": {},
   "outputs": [],
   "source": [
    "%%bigquery subs_locations\n",
    "\n",
    "SELECT zip_code,\n",
    "       SUM(CASE WHEN subscriber_type = \"Subscriber\" THEN 1 ELSE 0 END) AS Trips\n",
    "FROM bigquery-public-data.san_francisco.bikeshare_trips\n",
    "WHERE (start_station_name = \"Harry Bridges Plaza (Ferry Building)\" AND end_station_name = \"2nd at Townsend\")\n",
    "   OR (start_station_name = \"Steuart at Market\" AND end_station_name = \"2nd at Townsend\")\n",
    "   OR (start_station_name = \"Temporary Transbay Terminal (Howard at Beale)\" AND end_station_name = \"2nd at Townsend\")\n",
    "   OR (start_station_name = \"San Francisco Caltrain (Townsend at 4th)\" AND end_station_name = \"2nd at Townsend\")\n",
    "   OR (start_station_name = \"Market at Sansome\" AND end_station_name = \"2nd at Townsend\")\n",
    "   OR (start_station_name = \"2nd at Townsend\" AND end_station_name = \"Harry Bridges Plaza (Ferry Building)\")\n",
    "   OR (start_station_name = \"2nd at Townsend\" AND end_station_name = \"Steuart at Market\")\n",
    "   OR (start_station_name = \"2nd at Townsend\" AND end_station_name = \"Market at Sansome\")\n",
    "   OR (start_station_name = \"2nd at Townsend\" AND end_station_name = \"San Francisco Caltrain (Townsend at 4th)\")\n",
    "   OR (start_station_name = \"2nd at Townsend\" AND end_station_name = \"Temporary Transbay Terminal (Howard at Beale)\")\n",
    "   AND start_station_id != end_station_id\n",
    "GROUP BY zip_code\n",
    "ORDER BY Trips DESC\n",
    "Limit 10"
   ]
  },
  {
   "cell_type": "code",
   "execution_count": 124,
   "metadata": {},
   "outputs": [
    {
     "data": {
      "text/plain": [
       "Text(0, 0.5, 'number of Trips')"
      ]
     },
     "execution_count": 124,
     "metadata": {},
     "output_type": "execute_result"
    },
    {
     "data": {
      "image/png": "[encoded data removed]",
      "text/plain": [
       "<Figure size 1440x360 with 1 Axes>"
      ]
     },
     "metadata": {
      "needs_background": "light"
     },
     "output_type": "display_data"
    }
   ],
   "source": [
    "loc_plot = subs_locations.plot(x = \"zip_code\", y = \"Trips\", kind = \"bar\", title =\"Zip codes of subscribers who Frequent 2nd at Townsend\", figsize=(20,5))\n",
    "loc_plot.set_xlabel(\"Subscriber Zip Code\")\n",
    "loc_plot.set_ylabel(\"number of Trips\")"
   ]
  },
  {
   "cell_type": "markdown",
   "metadata": {},
   "source": [
    "Observations\n",
    "   - Cross referencing on Goole Maps indicates the Key Locations are:\n",
    "       - Mision District\n",
    "       - Greater Oakland \n",
    "       - Greater San Rafial"
   ]
  },
  {
   "cell_type": "markdown",
   "metadata": {},
   "source": [
    "## What is the current percentage of ridership traveling to and from the 2nd and Townsend Station?"
   ]
  },
  {
   "cell_type": "code",
   "execution_count": 125,
   "metadata": {},
   "outputs": [],
   "source": [
    "%%bigquery per_ride\n",
    "\n",
    "SELECT COUNT(trip_id) AS total_trips,\n",
    "       SUM(CASE WHEN start_station_name = \"2nd at Townsend\" OR end_station_name = \"2nd at Townsend\" THEN 1 ELSE 0 END) AS term_prints,\n",
    "       TRUNC((SUM(CASE WHEN start_station_name = \"2nd at Townsend\" OR end_station_name = \"2nd at Townsend\" THEN 1 ELSE 0 END) / COUNT(trip_id) * 100), 2) AS percent\n",
    "FROM bigquery-public-data.san_francisco.bikeshare_trips"
   ]
  },
  {
   "cell_type": "code",
   "execution_count": 126,
   "metadata": {},
   "outputs": [
    {
     "data": {
      "text/html": [
       "<div>\n",
       "<style scoped>\n",
       "    .dataframe tbody tr th:only-of-type {\n",
       "        vertical-align: middle;\n",
       "    }\n",
       "\n",
       "    .dataframe tbody tr th {\n",
       "        vertical-align: top;\n",
       "    }\n",
       "\n",
       "    .dataframe thead th {\n",
       "        text-align: right;\n",
       "    }\n",
       "</style>\n",
       "<table border=\"1\" class=\"dataframe\">\n",
       "  <thead>\n",
       "    <tr style=\"text-align: right;\">\n",
       "      <th></th>\n",
       "      <th>total_trips</th>\n",
       "      <th>term_prints</th>\n",
       "      <th>percent</th>\n",
       "    </tr>\n",
       "  </thead>\n",
       "  <tbody>\n",
       "    <tr>\n",
       "      <th>0</th>\n",
       "      <td>983648</td>\n",
       "      <td>83186</td>\n",
       "      <td>8.45</td>\n",
       "    </tr>\n",
       "  </tbody>\n",
       "</table>\n",
       "</div>"
      ],
      "text/plain": [
       "   total_trips  term_prints  percent\n",
       "0       983648        83186     8.45"
      ]
     },
     "execution_count": 126,
     "metadata": {},
     "output_type": "execute_result"
    }
   ],
   "source": [
    "per_ride"
   ]
  }
 ],
 "metadata": {
  "environment": {
   "name": "tf2-gpu.2-1.m55",
   "type": "gcloud",
   "uri": "gcr.io/deeplearning-platform-release/tf2-gpu.2-1:m55"
  },
  "kernelspec": {
   "display_name": "Python 3",
   "language": "python",
   "name": "python3"
  },
  "language_info": {
   "codemirror_mode": {
    "name": "ipython",
    "version": 3
   },
   "file_extension": ".py",
   "mimetype": "text/x-python",
   "name": "python",
   "nbconvert_exporter": "python",
   "pygments_lexer": "ipython3",
   "version": "3.7.8"
  }
 },
 "nbformat": 4,
 "nbformat_minor": 4
}
